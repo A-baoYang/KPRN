{
 "cells": [
  {
   "cell_type": "code",
   "execution_count": 21,
   "metadata": {},
   "outputs": [
    {
     "data": {
      "text/plain": [
       "{1: 2, 2: 1}"
      ]
     },
     "execution_count": 21,
     "metadata": {},
     "output_type": "execute_result"
    }
   ],
   "source": [
    "def counter_filter(raw_dataset, count):\n",
    "    import collections\n",
    "    counter = collections.Counter([tk for tk in raw_dataset])\n",
    "    counter = dict(filter(lambda x: x[1] >= count, counter.items()))\n",
    "    return counter\n",
    "\n",
    "counter_filter([1,1,2],1)"
   ]
  },
  {
   "cell_type": "code",
   "execution_count": 1,
   "metadata": {
    "scrolled": true
   },
   "outputs": [
    {
     "name": "stderr",
     "output_type": "stream",
     "text": [
      "100%|█████████▉| 2296834/2300000 [00:08<00:00, 275685.27it/s]\n",
      "100%|█████████▉| 34404/34405 [00:00<00:00, 394096.60it/s]\n",
      "100%|█████████▉| 7377419/7377420 [00:14<00:00, 497967.22it/s]\n"
     ]
    }
   ],
   "source": [
    "import json\n",
    "\n",
    "import yaml\n",
    "from tqdm import tqdm\n",
    "\n",
    "# from config import get_config\n",
    "\n",
    "# cfg = get_config('config/kkbox.yml')\n",
    "\n",
    "def add_l(entity_dict, item):\n",
    "    entity_dict[item] = True\n",
    "\n",
    "############################ load raw-data ##############################\n",
    "\n",
    "# song_id,song_length,genre_ids,artist_names,composers,lyricist,language\n",
    "songs = {}\n",
    "genre_ids = {} # 2\n",
    "artist_names = {}\n",
    "composers = {}\n",
    "# lyricist = {}\n",
    "# language = {}\n",
    "kg_triples = set()\n",
    "with open('data/kkbox/songs.csv', 'r', encoding='utf-8') as f:\n",
    "    is_title = True\n",
    "    for line in tqdm(f, total=2300000):\n",
    "        if is_title:\n",
    "            is_title = False\n",
    "        else:\n",
    "            info = line.split(',')\n",
    "            add_l(songs, info[0])\n",
    "            add_l(genre_ids, info[2])\n",
    "            add_l(artist_names, info[3])\n",
    "#             add_l(composers, info[4])\n",
    "            kg_triples.add((info[0], info[2], info[3], info[4]))\n",
    "            # add_l(lyricist, info[5])\n",
    "            # add_l(language, info[6])\n",
    "\n",
    "users = {}\n",
    "with open('data/kkbox/members.csv', 'r', encoding='utf-8') as f:\n",
    "    is_title = True\n",
    "    for line in tqdm(f, total=34405):\n",
    "        if is_title:\n",
    "            is_title = False\n",
    "        else:\n",
    "            info = line.split(',')\n",
    "            add_l(users, info[0])\n",
    "\n"
   ]
  },
  {
   "cell_type": "code",
   "execution_count": null,
   "metadata": {},
   "outputs": [],
   "source": [
    "# msno,song_id,source_system_tab,source_screen_name,source_type,target\n",
    "interactions = set()\n",
    "with open('data/kkbox/train.csv', 'r', encoding='utf-8') as f:\n",
    "    is_title = True\n",
    "    for line in tqdm(f, total=7377420):\n",
    "        if is_title:\n",
    "            is_title = False\n",
    "        else:\n",
    "            info = line.strip().split(',')\n",
    "            interactions.add((info[0], info[1], info[-1]))\n"
   ]
  },
  {
   "cell_type": "code",
   "execution_count": 63,
   "metadata": {},
   "outputs": [
    {
     "data": {
      "text/plain": [
       "7377418"
      ]
     },
     "execution_count": 63,
     "metadata": {},
     "output_type": "execute_result"
    }
   ],
   "source": [
    "users_list = [u for u,i,_ in interactions]\n",
    "items_list = [i for u,i,_ in interactions]\n",
    "len(items_list)"
   ]
  },
  {
   "cell_type": "code",
   "execution_count": 64,
   "metadata": {},
   "outputs": [
    {
     "data": {
      "text/plain": [
       "3837594"
      ]
     },
     "execution_count": 64,
     "metadata": {},
     "output_type": "execute_result"
    }
   ],
   "source": [
    "users_set = counter_filter(users_list, 200)\n",
    "items_set = counter_filter(items_list, 200)\n",
    "users_list = [u for u,i,s in interactions if u in users_set and i in items_set]\n",
    "items_list = [i for u,i,_ in interactions if u in users_set and i in items_set]\n",
    "len(items_list)"
   ]
  },
  {
   "cell_type": "code",
   "execution_count": 14,
   "metadata": {},
   "outputs": [
    {
     "data": {
      "text/plain": [
       "'3uNgEeV2o+wAhBhPjWNhgE8QoLEysbq5VhufbEZf6nc='"
      ]
     },
     "execution_count": 14,
     "metadata": {},
     "output_type": "execute_result"
    }
   ],
   "source": [
    "items_list[0]"
   ]
  },
  {
   "cell_type": "code",
   "execution_count": 65,
   "metadata": {},
   "outputs": [
    {
     "name": "stderr",
     "output_type": "stream",
     "text": [
      "100%|██████████| 12123/12123 [00:00<00:00, 431756.64it/s]\n",
      "100%|██████████| 5661/5661 [00:00<00:00, 469498.64it/s]\n",
      "100%|██████████| 60/60 [00:00<00:00, 90622.34it/s]\n",
      "100%|██████████| 1274/1274 [00:00<00:00, 570282.10it/s]\n"
     ]
    }
   ],
   "source": [
    "id2entity = {}\n",
    "entity2id = {}\n",
    "id2type = {}\n",
    "id = 0\n",
    "\n",
    "genre_set = set([t[1] for t in kg_triples if t[0] in items_set])\n",
    "artist_set = set([t[2] for t in kg_triples if t[0] in items_set])\n",
    "\n",
    "for user in tqdm(users_set, total=len(users_set)):\n",
    "    id2entity[id] = user\n",
    "    entity2id[user] = id\n",
    "    id2type[id] = 'u'\n",
    "    id += 1\n",
    "\n",
    "c = 0\n",
    "for entity in tqdm(items_set, total=len(items_set)):\n",
    "#     if entity in items_set.keys():\n",
    "        id2entity[id] = entity\n",
    "        entity2id[entity] = id\n",
    "        id2type[id] = 's'\n",
    "        id += 1\n",
    "        c += 1\n",
    "\n",
    "for entity in tqdm(genre_set, total=len(genre_set)):\n",
    "    id2entity[id] = entity\n",
    "    entity2id[entity] = id\n",
    "    id2type[id] = 'g'\n",
    "    id += 1\n",
    "\n",
    "for entity in tqdm(artist_set, total=len(artist_set)):\n",
    "    id2entity[id] = entity\n",
    "    entity2id[entity] = id\n",
    "    id2type[id] = 'a'\n",
    "    id += 1"
   ]
  },
  {
   "cell_type": "code",
   "execution_count": 66,
   "metadata": {},
   "outputs": [
    {
     "data": {
      "text/plain": [
       "19118"
      ]
     },
     "execution_count": 66,
     "metadata": {},
     "output_type": "execute_result"
    }
   ],
   "source": [
    "id"
   ]
  },
  {
   "cell_type": "code",
   "execution_count": 6,
   "metadata": {},
   "outputs": [],
   "source": [
    "\n",
    "# deprecated\n",
    "#\n",
    "# id2entity = {}\n",
    "# entity2id = {}\n",
    "# id2type = {}\n",
    "# id = 0\n",
    "# for user in users.keys():\n",
    "#     id2entity[id] = user\n",
    "#     entity2id[user] = id\n",
    "#     id2type[id] = 'u'\n",
    "#     id += 1\n",
    "\n",
    "# for entity in songs.keys():\n",
    "#     id2entity[id] = entity\n",
    "#     entity2id[entity] = id\n",
    "#     id2type[id] = 's'\n",
    "#     id += 1\n",
    "\n",
    "# for entity in genre_ids.keys():\n",
    "#     id2entity[id] = entity\n",
    "#     entity2id[entity] = id\n",
    "#     id2type[id] = 'g'\n",
    "#     id += 1\n",
    "\n",
    "# for entity in artist_names.keys():\n",
    "#     id2entity[id] = entity\n",
    "#     entity2id[entity] = id\n",
    "#     id2type[id] = 'a'\n",
    "#     id += 1\n",
    "\n",
    "# # for entity in composers.keys():\n",
    "# #     id2entity[id] = entity\n",
    "# #     entity2id[entity] = id\n",
    "# #     id2type[id] = 'c'\n",
    "# #     id += 1\n",
    "\n",
    "\n"
   ]
  },
  {
   "cell_type": "code",
   "execution_count": 69,
   "metadata": {},
   "outputs": [
    {
     "name": "stderr",
     "output_type": "stream",
     "text": [
      "100%|██████████| 2296833/2296833 [00:02<00:00, 987092.07it/s] \n",
      "100%|██████████| 7377418/7377418 [00:14<00:00, 512798.19it/s]\n"
     ]
    }
   ],
   "source": [
    "############################ save dataset ############################\n",
    "\n",
    "\n",
    "with open('data/kkbox/filtered/kg_triples.txt', 'w', encoding='utf-8') as f:\n",
    "    for kg_triple in tqdm(kg_triples, total=len(kg_triples)):\n",
    "        try:\n",
    "            song = str(entity2id[kg_triple[0]])\n",
    "            genre_id = str(entity2id[kg_triple[1]])\n",
    "            artist = str(entity2id[kg_triple[2]])\n",
    "            f.write(song+'\\t'+'g'+'\\t'+genre_id+'\\n')\n",
    "            f.write(song+'\\t'+'a'+'\\t'+artist+'\\n')\n",
    "        except:\n",
    "            pass\n",
    "\n",
    "\n",
    "# save interactions():\n",
    "with open('data/kkbox/filtered/interactions.txt', 'w', encoding='utf-8') as f:\n",
    "    for triple in tqdm(interactions, total=len(interactions)):\n",
    "#         if triple[0] in users_set and triple[1] in items_set and int(float(triple[2]))==1:\n",
    "        try:\n",
    "            user = str(entity2id[triple[0]])\n",
    "            item = str(entity2id[triple[1]])\n",
    "            score = str(int(float(triple[2])))\n",
    "            f.write(user+'\\t'+item+'\\t'+score+'\\n')\n",
    "        except:\n",
    "            pass\n",
    "            \n",
    "# save_dict():\n",
    "with open('data/kkbox/filtered/id2entity.dict', 'w', encoding='utf-8') as f:\n",
    "    f.write(json.dumps(id2entity))\n",
    "with open('data/kkbox/filtered/entity2id.dict', 'w', encoding='utf-8') as f:\n",
    "    f.write(json.dumps(entity2id))\n",
    "with open('data/kkbox/filtered/id2type.dict', 'w', encoding='utf-8') as f:\n",
    "    f.write(json.dumps(id2type))\n",
    "\n",
    "\n",
    "\n",
    "# load_dict()\n",
    "# with open('data/kkbox/id2entity.dict', 'r', encoding='utf-8') as f:\n",
    "#     id2entity = json.loads(f.read())\n",
    "# with open('data/kkbox/entity2id.dict', 'r', encoding='utf-8') as f:\n",
    "#     entity2id = json.loads(f.read())\n",
    "# with open('data/kkbox/id2type.dict', 'r', encoding='utf-8') as f:\n",
    "#     id2type = json.loads(f.read())\n"
   ]
  },
  {
   "cell_type": "code",
   "execution_count": null,
   "metadata": {},
   "outputs": [],
   "source": []
  },
  {
   "cell_type": "code",
   "execution_count": null,
   "metadata": {},
   "outputs": [],
   "source": []
  }
 ],
 "metadata": {
  "kernelspec": {
   "display_name": "'Python Interactive'",
   "language": "python",
   "name": "c81f649a-cc93-4d74-90b3-da350304ce83"
  },
  "language_info": {
   "codemirror_mode": {
    "name": "ipython",
    "version": 3
   },
   "file_extension": ".py",
   "mimetype": "text/x-python",
   "name": "python",
   "nbconvert_exporter": "python",
   "pygments_lexer": "ipython3",
   "version": "3.5.2"
  }
 },
 "nbformat": 4,
 "nbformat_minor": 2
}
